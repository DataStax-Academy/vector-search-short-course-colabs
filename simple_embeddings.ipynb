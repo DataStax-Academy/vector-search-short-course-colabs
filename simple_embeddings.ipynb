{
  "nbformat": 4,
  "nbformat_minor": 0,
  "metadata": {
    "colab": {
      "provenance": []
    },
    "kernelspec": {
      "name": "python3",
      "display_name": "Python 3"
    },
    "language_info": {
      "name": "python"
    }
  },
  "cells": [
    {
      "cell_type": "markdown",
      "source": [
        "#Simple Vector Encodings\n",
        "\n",
        "In this notebook you are going to use Google's Universal Sentence Encoder(USE) to create *vector encodings* of a couple of Winston Churchill quotes.\n",
        "\n",
        "Import the `tesorflow_hub`, the library that contains the USE."
      ],
      "metadata": {
        "id": "EYgrgWGgQOZ7"
      }
    },
    {
      "cell_type": "code",
      "source": [
        "import tensorflow_hub as hub"
      ],
      "metadata": {
        "id": "ZdGBDjlaQ1-H"
      },
      "execution_count": null,
      "outputs": []
    },
    {
      "cell_type": "markdown",
      "source": [
        "Define the data to be embedded."
      ],
      "metadata": {
        "id": "DS34X0brSPWP"
      }
    },
    {
      "cell_type": "code",
      "source": [
        "# Winston Churchill quotes\n",
        "quotes = [\n",
        "    \"Football is a gentleman's game played by hooligans.\",\n",
        "    \"Rugby is a hooligan's game played by gentlemen.\"\n",
        "]"
      ],
      "metadata": {
        "id": "n6OdFQ27Sb2w"
      },
      "execution_count": null,
      "outputs": []
    },
    {
      "cell_type": "markdown",
      "source": [
        "Load the saved model and generate the embeddings,"
      ],
      "metadata": {
        "id": "HkbN5Hwzv7XG"
      }
    },
    {
      "cell_type": "code",
      "source": [
        "embed = hub.load(\"https://tfhub.dev/google/universal-sentence-encoder/4\")\n",
        "embeddings = embed(quotes)"
      ],
      "metadata": {
        "id": "tY-JSBFawPJU"
      },
      "execution_count": null,
      "outputs": []
    },
    {
      "cell_type": "markdown",
      "source": [
        "Print the vecor embeddings."
      ],
      "metadata": {
        "id": "LoKinEAgwQZm"
      }
    },
    {
      "cell_type": "code",
      "execution_count": null,
      "metadata": {
        "id": "Zlxwv4T3cT80"
      },
      "outputs": [],
      "source": [
        "print(embeddings)"
      ]
    },
    {
      "cell_type": "markdown",
      "source": [
        "Wait a mintute! It looks like those vectors describe points in only 6 dimensions. That does not seem like enough dimensions to get meaningful results. Actually, the embeddings have 512 dimensions. By default, Python does not print the entire vector.\n",
        "\n",
        "To display the entire vectors, import the `sys` and `numPy` modules and call `set_printoptions()` to allow Python to print more data.\n",
        "\n"
      ],
      "metadata": {
        "id": "7Y4u1q43xkNT"
      }
    },
    {
      "cell_type": "code",
      "source": [
        "import sys\n",
        "import numpy\n",
        "\n",
        "numpy.set_printoptions(threshold=sys.maxsize)"
      ],
      "metadata": {
        "id": "80jbTN-mSrau"
      },
      "execution_count": null,
      "outputs": []
    },
    {
      "cell_type": "markdown",
      "source": [
        "Call `print()` again to see the entire vectors."
      ],
      "metadata": {
        "id": "JlBT96rUzIyP"
      }
    },
    {
      "cell_type": "code",
      "source": [
        "print(embeddings)"
      ],
      "metadata": {
        "id": "W25Dn910w8Gz"
      },
      "execution_count": null,
      "outputs": []
    },
    {
      "cell_type": "markdown",
      "source": [
        "You should see two 512 digit vectors of type float32. These are the embeddings."
      ],
      "metadata": {
        "id": "8lQ4k-OwzTch"
      }
    }
  ]
}